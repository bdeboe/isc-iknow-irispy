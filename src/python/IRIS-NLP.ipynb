{
 "cells": [
  {
   "cell_type": "markdown",
   "id": "bdae734f",
   "metadata": {},
   "source": [
    "# Accessing IRIS NLP from Python\n",
    "\n",
    "In this notebook, we'll leverage the NLP capabilities of InterSystems IRIS, also know as [iKnow](https://docs.intersystems.com/irislatest/csp/docbook/DocBook.UI.Page.cls?KEY=GIKNOW). The iKnow NLP engine is also available as an [open-source Python library `iknowpy`](https://github.com/intersystems/iknow), which offers the same linguistic analysis capabilities through a standalone engine for use in Python scripts and applications. However, the version embedded in IRIS leverages the platforms database capabilities to enable cross-document analyses, storing the engine output in a \"domain\" and offering SQL projections of the raw contents as well as rich REST and ObjectScript APIs on top. In this notebook, we'll show how to access the latter from Python.\n",
    "\n",
    "We'll first connect to IRIS using the [Native API for Python](https://docs.intersystems.com/irislatest/csp/docbook/DocBook.UI.Page.cls?KEY=BPYNAT_about). If you haven't already, install the DB-API from the wheel posted [here](https://intersystems-community.github.io/iris-driver-distribution/) to get access to the `iris` module. After establishing a connection, we can use the [`%SYSTEM.iKnow`](https://docs.intersystems.com/irislatest/csp/documatic/%25CSP.Documatic.cls?LIBRARY=%25SYS&CLASSNAME=%25SYSTEM.iKnow) API to print the domains already created in this namespace. This may show up empty if you haven't used iKnow before."
   ]
  },
  {
   "cell_type": "code",
   "execution_count": 43,
   "id": "db9b85f2",
   "metadata": {},
   "outputs": [
    {
     "name": "stdout",
     "output_type": "stream",
     "text": [
      "\n",
      "Domains for Namespace USER:\n",
      " Domain ID : Domain name                              : # of sources : version\n",
      " --------- : ---------------------------------------- : ------------ : -------\n",
      "         1 : HelloWorld                               :            3 :       5\n"
     ]
    }
   ],
   "source": [
    "import iris\n",
    "\n",
    "# Open a connection to the server\n",
    "args = {\n",
    "        'hostname':'localhost', \n",
    "        'port': 1972,\n",
    "        'namespace':'USER', \n",
    "        'username':'_SYSTEM', \n",
    "        'password':'SYS'\n",
    "}\n",
    "connection = iris.connect(**args)\n",
    "\n",
    "# Create an IRIS object\n",
    "irispy = iris.createIRIS(connection)\n",
    "\n",
    "# Invoke the ListDomains() method\n",
    "irispy.classMethodVoid('%SYSTEM.iKnow','ListDomains')"
   ]
  },
  {
   "cell_type": "markdown",
   "id": "a7be96b5",
   "metadata": {},
   "source": [
    "## Creating an iKnow Domain\n",
    "\n",
    "iKnow Domains are repositories to which you can add \"sources\". Source text is indexed by the iKnow engine and the resulting concepts and relationships are then stored in the domain for you to access through the various APIs. The easiest way to create a domain is using the [iKnow Architect](https://community.intersystems.com/post/creating-domain-iknow-domain-architect), a GUI available from the System Management Portal. This will create a Domain Definition, which registers where data needs to be loaded from so you can easily rebuild it from scratch. \n",
    "\n",
    "In this demo, we'll use a lower-level, fully programmatic approach and interact with the [`%iKnow.Domain`](https://docs.intersystems.com/irislatest/csp/documatic/%25CSP.Documatic.cls?LIBRARY=%25SYS&CLASSNAME=%25iKnow.Domain) class directly. Note that you may also programmatically create a Domain Definition by instantiating the [`%iKnow.Model.domain`](https://docs.intersystems.com/irislatest/csp/documatic/%25CSP.Documatic.cls?LIBRARY=%25SYS&CLASSNAME=%25iKnow.Model.domain) class and then using its [`%SaveToClass()`](https://docs.intersystems.com/irislatest/csp/documatic/%25CSP.Documatic.cls?LIBRARY=%25SYS&CLASSNAME=%25iKnow.Model.domain#%25SaveToClass) method if you'd like to take advantage of the rebuildability of Domain Definitions."
   ]
  },
  {
   "cell_type": "code",
   "execution_count": 22,
   "id": "6692de0c",
   "metadata": {},
   "outputs": [
    {
     "name": "stdout",
     "output_type": "stream",
     "text": [
      "Domain already exists, dropping first...\n",
      "Domain created with ID: 1\n"
     ]
    }
   ],
   "source": [
    "# First drop any prior domain\n",
    "if (irispy.classMethodValue('%iKnow.Domain','Exists','HelloWorld') > 0):\n",
    "    print('Domain already exists, dropping first...')\n",
    "    irispy.classMethodVoid('%iKnow.Domain','Delete','HelloWorld')\n",
    "    \n",
    "# Now create a new domain. \n",
    "domain = irispy.classMethodValue('%iKnow.Domain','Create','HelloWorld')\n",
    "domain_id = domain.get(\"Id\")\n",
    "print('Domain created with ID: '+str(domain_id))\n",
    "\n",
    "# Note that we could also use the %New()/%Save() methods, but that's slightly more verbose from Python"
   ]
  },
  {
   "cell_type": "markdown",
   "id": "63a99854",
   "metadata": {},
   "source": [
    "To add data to the domain, the easiest way to get started is using the [`%SYSTEM.iKnow`](https://docs.intersystems.com/irislatest/csp/documatic/%25CSP.Documatic.cls?LIBRARY=%25SYS&CLASSNAME=%25iKnow.Model.domain#%25SaveToClass) API again, which takes the domain names as its first argument."
   ]
  },
  {
   "cell_type": "code",
   "execution_count": 24,
   "id": "fedf10ec",
   "metadata": {},
   "outputs": [
    {
     "name": "stdout",
     "output_type": "stream",
     "text": [
      "\n",
      "Domains for Namespace USER:\n",
      " Domain ID : Domain name                              : # of sources : version\n",
      " --------- : ---------------------------------------- : ------------ : -------\n",
      "         1 : HelloWorld                               :            3 :       5\n"
     ]
    }
   ],
   "source": [
    "# Add some text straight from a string argument using IndexString()\n",
    "# Note that the second argument to that method (and therefore the fourth to classMethodVoid()) is a unique \"external\"\n",
    "# identifier we can use to look up our source afterwards. We stick to dull identifiers for now :-)\n",
    "irispy.classMethodVoid('%SYSTEM.iKnow', 'IndexString', 'HelloWorld', 'Test1',\n",
    "                           'Here\\'s a first example of a piece of text indexed by the iKnow engine.')\n",
    "irispy.classMethodVoid('%SYSTEM.iKnow', 'IndexString', 'HelloWorld', 'Test2',\n",
    "                           'Let\\'s add more text for the iKnow engine to process. Of course there can be multiple sentences.')\n",
    "\n",
    "# Next we'll create a separate configuration to auto-detect the language for English or Frech text\n",
    "languages = iris.IRISList()\n",
    "languages.add('fr')\n",
    "languages.add('en')\n",
    "irispy.classMethodVoid('%iKnow.Configuration', 'Create', 'EnglishOrFrench', 1, languages)\n",
    "irispy.classMethodVoid('%SYSTEM.iKnow', 'IndexString', 'HelloWorld', 'Test3',\n",
    "                           'On peut également utiliser plusieurs langues dans la même domaine.\\n'+\n",
    "                           'In fact we can even use different languages in the same text!', 'EnglishOrFrench')\n",
    "\n",
    "# If you have some text files accessible from the IRIS server, you can use IndexFile() or IndexDirectory()\n",
    "#irispy.classMethodVoid('%SYSTEM.iKnow', 'IndexDirectory', 'HelloWorld', '/data/nlp/input')\n",
    "\n",
    "# Similarly, there's a simple method to index data accessible through SQL.\n",
    "# This method takes additional arguments to identify columns for building the external ID and of course the text column.\n",
    "#irispy.classMethodVoid('%SYSTEM.iKnow', 'IndexTable', 'HelloWorld', 'Aviation.Event', \n",
    "#    'EventID', 'LocationCountry', 'NarrativeSummary')\n",
    "\n",
    "# And this utility method also prints the number of sources in our domain\n",
    "irispy.classMethodVoid('%SYSTEM.iKnow','ListDomains')"
   ]
  },
  {
   "cell_type": "markdown",
   "id": "f62b916a",
   "metadata": {},
   "source": [
    "## Querying the domain\n",
    "\n",
    "The iKnow infrastructure in IRIS includes a comprehensive query API, implementing a few common types of \"questions\" you might want to ask of the data processed. In our HelloWorld demo domain there isn't as much data to query right now (unless you also indexed a directory or table with interesting contents), but let's take a closer look anyway. \n",
    "\n",
    "The iKnow query APIs return data by reference in an array with a `$list` for each result row. We'll first create a utility method for browsing these results. Note that there is also a SQL version of the API that is somewhat more straightforward to consume from Python, but when we start working with filters later on, programmatic access through the Native API will be easier again."
   ]
  },
  {
   "cell_type": "code",
   "execution_count": 78,
   "id": "24cc8834",
   "metadata": {},
   "outputs": [
    {
     "name": "stdout",
     "output_type": "stream",
     "text": [
      "Top concepts:\n",
      "[{'entUniId': 6, 'entity': 'text', 'frequency': 2, 'spread': 2}, {'entUniId': 8, 'entity': 'iknow engine', 'frequency': 2, 'spread': 2}, {'entUniId': 3, 'entity': 'first example', 'frequency': 1, 'spread': 1}, {'entUniId': 5, 'entity': 'piece', 'frequency': 1, 'spread': 1}, {'entUniId': 10, 'entity': 'more text', 'frequency': 1, 'spread': 1}, {'entUniId': 14, 'entity': 'multiple sentences', 'frequency': 1, 'spread': 1}, {'entUniId': 17, 'entity': 'plusieurs langues', 'frequency': 1, 'spread': 1}, {'entUniId': 20, 'entity': 'domaine', 'frequency': 1, 'spread': 1}, {'entUniId': 23, 'entity': 'different languages', 'frequency': 1, 'spread': 1}]\n",
      "\n",
      "Top entities similar to \"text\":\n",
      "[{'entUniId': 6, 'entity': 'text', 'frequency': 2, 'spread': 2}, {'entUniId': 10, 'entity': 'more text', 'frequency': 1, 'spread': 1}]\n"
     ]
    }
   ],
   "source": [
    "def iknow_query(api : str, method : str, domain_id : int, *args, outGlo : str = '^result'):\n",
    "    \n",
    "    # figure out result columns to build a nice return object\n",
    "    proxy = irispy.classMethodValue('%Dictionary.ParameterDefinition', '%OpenId', api+'||'+method+'RT')\n",
    "    raw = proxy.get('Default').split(',')\n",
    "    return_cols = list(map(lambda x:x.split(':')[0], raw))\n",
    "    return_types = list(map(lambda x:x.split(':')[1], raw))\n",
    "    \n",
    "    # call actual API method\n",
    "    irispy.classMethodVoid(api, method, outGlo, domain_id, *args)\n",
    "    \n",
    "    # now iterate through output global\n",
    "    result = []\n",
    "    direction = 0\n",
    "    subscript = 0\n",
    "    while True:\n",
    "        subscript = irispy.nextSubscript(direction, outGlo, subscript)\n",
    "        if subscript == None: \n",
    "            break\n",
    "        raw_row = iris.IRISList(irispy.getBytes(outGlo,subscript))\n",
    "        row = {}\n",
    "        for i, col in enumerate(return_cols):\n",
    "            row[col] = raw_row.get(i+1)\n",
    "        result.append(row)\n",
    "        \n",
    "    # clean up results\n",
    "    irispy.kill(outGlo)\n",
    "    \n",
    "    return result\n",
    "\n",
    "print('Top concepts:')\n",
    "print(iknow_query('%iKnow.Queries.EntityAPI', 'GetTop', domain_id))\n",
    "\n",
    "print()\n",
    "print('Top entities similar to \"text\":')\n",
    "print(iknow_query('%iKnow.Queries.EntityAPI', 'GetSimilar', domain_id, 'text'))"
   ]
  },
  {
   "cell_type": "code",
   "execution_count": null,
   "id": "1ed91c90",
   "metadata": {},
   "outputs": [],
   "source": []
  }
 ],
 "metadata": {
  "kernelspec": {
   "display_name": "Python 3 (ipykernel)",
   "language": "python",
   "name": "python3"
  },
  "language_info": {
   "codemirror_mode": {
    "name": "ipython",
    "version": 3
   },
   "file_extension": ".py",
   "mimetype": "text/x-python",
   "name": "python",
   "nbconvert_exporter": "python",
   "pygments_lexer": "ipython3",
   "version": "3.9.13"
  }
 },
 "nbformat": 4,
 "nbformat_minor": 5
}
